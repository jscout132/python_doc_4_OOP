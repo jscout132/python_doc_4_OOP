{
 "cells": [
  {
   "cell_type": "markdown",
   "metadata": {},
   "source": [
    "# Object-Oriented-Programming (OOP)"
   ]
  },
  {
   "cell_type": "markdown",
   "metadata": {},
   "source": [
    "## Tasks Today:\n",
    "\n",
    "   \n",
    "\n",
    "1) <b>Creating a Class (Initializing/Declaring)</b> <br>\n",
    "2) <b>Using a Class (Instantiating)</b> <br>\n",
    " &nbsp;&nbsp;&nbsp;&nbsp; a) Creating One Instance <br>\n",
    " &nbsp;&nbsp;&nbsp;&nbsp; b) Creating Multiple Instances <br>\n",
    " &nbsp;&nbsp;&nbsp;&nbsp; c) In-Class Exercise #1 - Create a Class 'Car' and instantiate three different makes of cars <br>\n",
    "3) <b>The \\__init\\__() Method</b> <br>\n",
    " &nbsp;&nbsp;&nbsp;&nbsp; a) The 'self' Attribute <br>\n",
    "4) <b>Class Attributes</b> <br>\n",
    " &nbsp;&nbsp;&nbsp;&nbsp; a) Initializing Attributes <br>\n",
    " &nbsp;&nbsp;&nbsp;&nbsp; b) Setting an Attribute Outside of the \\__init\\__() Method <br>\n",
    " &nbsp;&nbsp;&nbsp;&nbsp; c) Setting Defaults for Attributes <br>\n",
    " &nbsp;&nbsp;&nbsp;&nbsp; d) Accessing Class Attributes <br>\n",
    " &nbsp;&nbsp;&nbsp;&nbsp; e) Changing Class Attributes <br>\n",
    " &nbsp;&nbsp;&nbsp;&nbsp; f) In-Class Exercise #2 - Add a color and wheels attribute to your 'Car' class <br>\n",
    "5) <b>Class Methods</b> <br>\n",
    " &nbsp;&nbsp;&nbsp;&nbsp; a) Creating <br>\n",
    " &nbsp;&nbsp;&nbsp;&nbsp; b) Calling <br>\n",
    " &nbsp;&nbsp;&nbsp;&nbsp; c) Modifying an Attribute's Value Through a Method <br>\n",
    " &nbsp;&nbsp;&nbsp;&nbsp; d) Incrementing an Attribute's Value Through a Method <br>\n",
    " &nbsp;&nbsp;&nbsp;&nbsp; e) In-Class Exercise #3 - Add a method that prints the cars color and wheel number, then call them <br>\n",
    "6) <b>Inheritance</b> <br>\n",
    " &nbsp;&nbsp;&nbsp;&nbsp; a) Syntax for Inheriting from a Parent Class <br>\n",
    " &nbsp;&nbsp;&nbsp;&nbsp; b) The \\__init\\__() Method for a Child Class (super()) <br>\n",
    " &nbsp;&nbsp;&nbsp;&nbsp; c) Defining Attributes and Methods for the Child Class <br>\n",
    " &nbsp;&nbsp;&nbsp;&nbsp; d) Method Overriding <br>\n",
    " &nbsp;&nbsp;&nbsp;&nbsp; e) In-Class Exercise #4 - Create a class 'Ford' that inherits from 'Car' class and initialize it as a Blue Ford Explorer with 4 wheels using the super() method <br>\n",
    "7) <b>Classes as Attributes</b> <br>\n",
    "8) <b>Exercises</b> <br>\n",
    " &nbsp;&nbsp;&nbsp;&nbsp; a) Exercise #1 - Turn the shopping cart program from yesterday into an object-oriented program <br>"
   ]
  },
  {
   "cell_type": "markdown",
   "metadata": {},
   "source": [
    "## Creating a Class (Initializing/Declaring)\n",
    "<p>When creating a class, function, or even a variable you are initializing that object. Initializing and Declaring occur at the same time in Python, whereas in lower level languages you have to declare an object before initializing it. This is the first step in the process of using a class.</p>"
   ]
  },
  {
   "cell_type": "code",
   "execution_count": 4,
   "metadata": {},
   "outputs": [],
   "source": [
    "# because these are still variables, they can be rewritten\n",
    "# classes get capitalized! which is why we don't cap other things\n",
    "\n",
    "# can also use functions within a class\n",
    "class Car():\n",
    "    wheels = 4\n",
    "    color = 'blue'"
   ]
  },
  {
   "cell_type": "markdown",
   "metadata": {},
   "source": [
    "## Using a Class (Instantiating)\n",
    "<p>The process of creating a class is called <i>Instantiating</i>. Each time you create a variable of that type of class, it is referred to as an <i>Instance</i> of that class. This is the second step in the process of using a class.</p>"
   ]
  },
  {
   "cell_type": "markdown",
   "metadata": {},
   "source": [
    "##### Creating One Instance"
   ]
  },
  {
   "cell_type": "code",
   "execution_count": 7,
   "metadata": {},
   "outputs": [
    {
     "name": "stdout",
     "output_type": "stream",
     "text": [
      "blue\n"
     ]
    }
   ],
   "source": [
    "# handing the blueprints to the builder to actually make it\n",
    "# note the cap\n",
    "\n",
    "# first instance\n",
    "ford = Car()\n",
    "\n",
    "# look inside of that variable and see if it has attributes, \n",
    "# in this case, color\n",
    "\n",
    "print(ford.color)"
   ]
  },
  {
   "cell_type": "markdown",
   "metadata": {},
   "source": [
    "##### Creating Multiple Instances"
   ]
  },
  {
   "cell_type": "code",
   "execution_count": 8,
   "metadata": {},
   "outputs": [
    {
     "name": "stdout",
     "output_type": "stream",
     "text": [
      "<class 'str'>\n"
     ]
    }
   ],
   "source": [
    "chevy = Car()\n",
    "honda = Car()\n",
    "porche = Car()\n",
    "\n",
    "print(type(porche.color))"
   ]
  },
  {
   "cell_type": "markdown",
   "metadata": {},
   "source": [
    "##### In-Class Exercise #1 - Create a Class 'Car' and Instantiate three different makes of cars"
   ]
  },
  {
   "cell_type": "code",
   "execution_count": 11,
   "metadata": {},
   "outputs": [
    {
     "name": "stdout",
     "output_type": "stream",
     "text": [
      "the honda is red\n",
      "the gms has 10 lights\n",
      "the toyota has 4 doors\n"
     ]
    }
   ],
   "source": [
    "class Car():\n",
    "    doors = 4\n",
    "    color = 'red'\n",
    "    wheels = 4\n",
    "    lights = 10\n",
    "\n",
    "honda = Car()\n",
    "gmc = Car()\n",
    "toyota = Car()\n",
    "\n",
    "print('the honda is',honda.color)\n",
    "print('the gms has',gmc.lights,'lights')        \n",
    "print('the toyota has',toyota.doors,'doors')\n"
   ]
  },
  {
   "cell_type": "markdown",
   "metadata": {},
   "source": [
    "## The \\__init\\__() Method <br>\n",
    "<p>This method is used in almost every created class, and called only once upon the creation of the class instance. This method will initialize all variables needed for the object.</p>"
   ]
  },
  {
   "cell_type": "code",
   "execution_count": 14,
   "metadata": {},
   "outputs": [
    {
     "name": "stdout",
     "output_type": "stream",
     "text": [
      "black 4\n",
      "blue 6\n"
     ]
    }
   ],
   "source": [
    "class Car():\n",
    "    engine = '4.7L' #Global within the class- any method within the class\n",
    "                    #can call upon this variable\n",
    "    def __init__(self, color, wheels):\n",
    "        self.color = color\n",
    "        self.wheels = wheels\n",
    "    \n",
    "mazda = Car('black',4)\n",
    "subaru = Car('blue',6)\n",
    "\n",
    "print(mazda.color, mazda.wheels)\n",
    "print(subaru.color, subaru.wheels)\n",
    "\n",
    "# you NEED the self attribute to make this work"
   ]
  },
  {
   "cell_type": "markdown",
   "metadata": {},
   "source": [
    "##### The 'self' Attribute <br>\n",
    "<p>This attribute is required to keep track of specific instance's attributes. Without the self attribute, the program would not know how to reference or keep track of an instance's attributes.</p>"
   ]
  },
  {
   "cell_type": "code",
   "execution_count": null,
   "metadata": {},
   "outputs": [],
   "source": [
    "# see above"
   ]
  },
  {
   "cell_type": "code",
   "execution_count": 41,
   "metadata": {},
   "outputs": [
    {
     "name": "stdout",
     "output_type": "stream",
     "text": [
      "clean\n",
      "no\n",
      "rock on climber\n",
      "no\n"
     ]
    }
   ],
   "source": [
    "# another example with some conditionals\n",
    "\n",
    "class House():\n",
    "    def __init__(self, wall, dishes):\n",
    "        self.wall = wall\n",
    "        self.dishes = dishes\n",
    "        \n",
    "        \n",
    "#because the if statement has self in it, it pulls what was stored in __init__\n",
    "    def washDishes(self):\n",
    "        if self.dishes.lower() == 'dirty':\n",
    "            return 'clean'\n",
    "        \n",
    "#because this doesn't have self in it at line 17, it needs an argument when running\n",
    "#the rockWall() method\n",
    "    def rockWall(self,wall):\n",
    "        if wall.lower() == 'yes':\n",
    "            return 'rock on climber'\n",
    "        else:\n",
    "            return 'why wouldn\\'t you want a rock wall in your house'\n",
    "\n",
    "\n",
    "#passing yes and dirty as wall and dishes\n",
    "brandon_house = House('yes', 'dirty')\n",
    "print(brandon_house.washDishes())\n",
    "\n",
    "#if i pass a different argument when calling the function here, it'll\n",
    "#go through the if statement\n",
    "brandon_house.wall = 'no'\n",
    "\n",
    "#in the above, i set wall to no\n",
    "print(brandon_house.wall)\n",
    "\n",
    "#but here, because self wasn't in the if statement, i'm sending the \n",
    "#argument that'll actually get used\n",
    "print(brandon_house.rockWall('yes'))\n",
    "\n",
    "#note, sending that above arguement doesn't change what is stored in \n",
    "#wall, just what is being passed that single time\n",
    "print(brandon_house.wall)"
   ]
  },
  {
   "cell_type": "markdown",
   "metadata": {},
   "source": [
    "## Class Attributes <br>\n",
    "<p>While variables are inside of a class, they are referred to as attributes and not variables. When someone says 'attribute' you know they're speaking about a class. Attributes can be initialized through the init method, or outside of it.</p>"
   ]
  },
  {
   "cell_type": "markdown",
   "metadata": {},
   "source": [
    "##### Initializing Attributes"
   ]
  },
  {
   "cell_type": "code",
   "execution_count": 22,
   "metadata": {},
   "outputs": [],
   "source": [
    "# see above\n",
    "class Toy():\n",
    "    kind = 'car' #this is called a constant\n",
    "    \n",
    "    def __init__(self, rooftop, horn, wheels):\n",
    "        self.rooftop = rooftop #these are our attributes\n",
    "        self.horn = horn\n",
    "        self.wheels = wheels\n",
    "\n",
    "tonka_truck = Toy(1,1,4) #sets number of rooftops, horns, and wheels\n",
    "hot_wheels = Toy(2,3,8)\n"
   ]
  },
  {
   "cell_type": "markdown",
   "metadata": {},
   "source": [
    "##### Accessing Class Attributes"
   ]
  },
  {
   "cell_type": "code",
   "execution_count": 23,
   "metadata": {
    "scrolled": true
   },
   "outputs": [
    {
     "name": "stdout",
     "output_type": "stream",
     "text": [
      "1\n",
      "8\n"
     ]
    }
   ],
   "source": [
    "# See Above\n",
    "print(tonka_truck.rooftop)\n",
    "print(hot_wheels.wheels)"
   ]
  },
  {
   "cell_type": "markdown",
   "metadata": {},
   "source": [
    "##### Setting Defaults for Attributes"
   ]
  },
  {
   "cell_type": "code",
   "execution_count": 24,
   "metadata": {},
   "outputs": [
    {
     "data": {
      "text/plain": [
       "'Blue'"
      ]
     },
     "execution_count": 24,
     "metadata": {},
     "output_type": "execute_result"
    }
   ],
   "source": [
    "class Car():\n",
    "    engine = '4.7l'\n",
    "    \n",
    "    def __init__(self, wheels):\n",
    "        self.wheels = wheels\n",
    "        self.color = 'Blue'\n",
    "        \n",
    "honda = Car(4)\n",
    "honda.color"
   ]
  },
  {
   "cell_type": "markdown",
   "metadata": {},
   "source": [
    "##### Changing Class Attributes <br>\n",
    "<p>Keep in mind there are global class attributes and then there are attributes only available to each class instance which won't effect other classes.</p>"
   ]
  },
  {
   "cell_type": "code",
   "execution_count": 28,
   "metadata": {},
   "outputs": [
    {
     "name": "stdout",
     "output_type": "stream",
     "text": [
      "before change Blue\n",
      "\n",
      "After change 4.9l\n"
     ]
    }
   ],
   "source": [
    "jeep = Car(8)\n",
    "\n",
    "print(f'before change {jeep.color}')\n",
    "\n",
    "jeep.color = 'white'\n",
    "jeep.engine = '4.9l'\n",
    "print(f'\\nAfter change {jeep.engine}')"
   ]
  },
  {
   "cell_type": "code",
   "execution_count": null,
   "metadata": {},
   "outputs": [],
   "source": []
  },
  {
   "cell_type": "markdown",
   "metadata": {},
   "source": [
    "##### In-Class Exercise #2 - Add a doors and seats attribute to your 'Car' class then print out two different instances with different doors and seats"
   ]
  },
  {
   "cell_type": "code",
   "execution_count": 31,
   "metadata": {},
   "outputs": [
    {
     "name": "stdout",
     "output_type": "stream",
     "text": [
      "black\n",
      "the crv and santa fe have the same number of doors\n"
     ]
    }
   ],
   "source": [
    "class CarSUV():\n",
    "    gas_tank_capacity = '14 gallons'\n",
    "    \n",
    "    def __init__(self, doors, seats, color):\n",
    "        self.doors = doors\n",
    "        self.seats = seats\n",
    "        self.color = color\n",
    "\n",
    "crv = CarSUV(5,5,'light blue')\n",
    "santa_fe = CarSUV(5,5,'black')\n",
    "\n",
    "print(santa_fe.color)\n",
    "\n",
    "if crv.doors == santa_fe.doors:\n",
    "    print('the crv and santa fe have the same number of doors')"
   ]
  },
  {
   "cell_type": "code",
   "execution_count": null,
   "metadata": {},
   "outputs": [],
   "source": [
    "#video example\n",
    "\n",
    "class Car():\n",
    "    def __init__(self, doors, seats = 4):\n",
    "        self.doors = doors\n",
    "        self.seats = seats\n",
    "\n",
    "toyota = Car(2,2)\n",
    "porsche = Car(4)\n",
    "    \n"
   ]
  },
  {
   "cell_type": "markdown",
   "metadata": {},
   "source": [
    "## Class Methods <br>\n",
    "<p>While inside of a class, functions are referred to as 'methods'. If you hear someone mention methods, they're speaking about classes. Methods are essentially functions, but only callable on the instances of a class.</p>"
   ]
  },
  {
   "cell_type": "markdown",
   "metadata": {},
   "source": [
    "##### Creating"
   ]
  },
  {
   "cell_type": "code",
   "execution_count": 45,
   "metadata": {},
   "outputs": [],
   "source": [
    "# just creates the blueprints for your shopping bag\n",
    "class ShoppingBag():\n",
    "    '''\n",
    "        The ShoppingBag class will have handles, capacity, and items \n",
    "        to place inside\n",
    "        \n",
    "        Attributes for the class: \n",
    "        - handles: expected to be an int\n",
    "        - capacity: expected to be a string or an int\n",
    "        - items: expected to be a list\n",
    "    '''\n",
    "    \n",
    "    def __init__(self, handles, capacity, items):\n",
    "        self.handles = handles\n",
    "        self.capacity = capacity\n",
    "        self.items = items\n",
    "        \n",
    "    #write a method that shows the items in the ShoppingBag\n",
    "    def showShoppingBag(self):\n",
    "        if self.items == []:\n",
    "            print('your bag is empty')\n",
    "        else:\n",
    "            print('you have items in your bag')\n",
    "            for item in self.items:\n",
    "                print(item)\n",
    "    \n",
    "    #show the capacity\n",
    "    def showCapacity(self):\n",
    "        print(f'Your capacity is: {self.capacity}')\n",
    "    \n",
    "    #add items to the items list for the ShoppingBag\n",
    "    def addItems(self):\n",
    "        products = input('what would you like to add? ')\n",
    "        self.items.append(products)\n",
    "        \n",
    "        \n",
    "    #change the capacity of ShoppingBag\n",
    "    def changeBagCap(self, capacity):\n",
    "        self.capacity = capacity\n",
    "    \n",
    "    #increase the capacity of ShoppingBag- defaults to 10\n",
    "    def increaseCap(self, changed_capacity = 10):\n",
    "        if self.capacity == isinstance(self.capacity,str):\n",
    "            print('we can\\'t add that here')\n",
    "        else:\n",
    "            self.capacity += changed_capacity\n",
    "            \n",
    "    \n",
    "    "
   ]
  },
  {
   "cell_type": "markdown",
   "metadata": {},
   "source": [
    "##### Calling"
   ]
  },
  {
   "cell_type": "code",
   "execution_count": 46,
   "metadata": {},
   "outputs": [
    {
     "name": "stdout",
     "output_type": "stream",
     "text": [
      "what do you want to do? Add, show, or quit? show\n",
      "your bag is empty\n",
      "what do you want to do? Add, show, or quit? quit\n",
      "your bag is empty\n",
      "thanks for shopping\n"
     ]
    }
   ],
   "source": [
    "# See Above\n",
    "whole_foods_bag = ShoppingBag(2,10,[])\n",
    "\n",
    "#create a function to run the ShoppingBag methods on our whole_foods_bag\n",
    "#this function will be in charge of which part of the class to run\n",
    "def run():\n",
    "    while True:\n",
    "        response = input('what do you want to do? Add, show, or quit? ')\n",
    "        \n",
    "        if response.lower() == 'quit':\n",
    "            whole_foods_bag.showShoppingBag()\n",
    "            print('thanks for shopping')\n",
    "            break #breaks the while loop\n",
    "        \n",
    "        elif response.lower() == 'add':\n",
    "            whole_foods_bag.addItems()\n",
    "            \n",
    "        elif response.lower() == 'show':\n",
    "            whole_foods_bag.showShoppingBag()\n",
    "        \n",
    "        else:\n",
    "            print('Try another command')\n",
    "\n",
    "run()\n"
   ]
  },
  {
   "cell_type": "markdown",
   "metadata": {},
   "source": [
    "##### Modifying an Attribute's Value Through a Method"
   ]
  },
  {
   "cell_type": "code",
   "execution_count": 47,
   "metadata": {},
   "outputs": [
    {
     "name": "stdout",
     "output_type": "stream",
     "text": [
      "Your capacity is: 10\n",
      "capacity after the change:\n",
      "Your capacity is: 40\n"
     ]
    }
   ],
   "source": [
    "whole_foods_bag.showCapacity()\n",
    "print('capacity after the change:')\n",
    "whole_foods_bag.changeBagCap(40)\n",
    "whole_foods_bag.showCapacity()"
   ]
  },
  {
   "cell_type": "markdown",
   "metadata": {},
   "source": [
    "##### Incrementing an Attribute's Value Through a Method"
   ]
  },
  {
   "cell_type": "code",
   "execution_count": 49,
   "metadata": {},
   "outputs": [
    {
     "name": "stdout",
     "output_type": "stream",
     "text": [
      "Your capacity is: 40\n",
      "after increase\n",
      "Your capacity is: 50\n"
     ]
    }
   ],
   "source": [
    "whole_foods_bag.showCapacity()\n",
    "print('after increase')\n",
    "whole_foods_bag.increaseCap()\n",
    "whole_foods_bag.showCapacity()"
   ]
  },
  {
   "cell_type": "markdown",
   "metadata": {},
   "source": [
    "##### In-Class Exercise #3 - Add a method that takes in three parameters of year, doors and seats and prints out a formatted print statement with make, model, year, seats, and doors"
   ]
  },
  {
   "cell_type": "code",
   "execution_count": 54,
   "metadata": {},
   "outputs": [
    {
     "name": "stdout",
     "output_type": "stream",
     "text": [
      "This car is from 2019 and is a Ford Explorer and has 4 doors and 5 seats\n"
     ]
    }
   ],
   "source": [
    "# Create class with 2 paramters inside of the __init__ which are make and model\n",
    "class Cars():\n",
    "    make = 'Ford'\n",
    "    model = 'Explorer'\n",
    "    \n",
    "    def __init__ (self, year, door, seats):\n",
    "        self.year = year\n",
    "        self.door = door\n",
    "        self.seats = seats\n",
    "        \n",
    "    def printCar(self):   \n",
    "        print(f'This car is from {self.year} and is a {self.make} {self.model} and has {self.door} doors and {self.seats} seats')\n",
    "        \n",
    "# Inside of the Car class create a method that has 4 parameter in total (self,year,door,seats)\n",
    "    \n",
    "# Output: This car is from 2019 and is a Ford Expolorer and has 4 doors and 5 seats\n",
    "# make sure the print statement is in the class\n",
    "\n",
    "car1 = Cars(2019, 4, 5)\n",
    "car1.printCar()"
   ]
  },
  {
   "cell_type": "markdown",
   "metadata": {},
   "source": [
    "## Inheritance <br>\n",
    "<p>You can create a child-parent relationship between two classes by using inheritance. What this allows you to do is have overriding methods, but also inherit traits from the parent class. Think of it as an actual parent and child, the child will inherit the parent's genes, as will the classes in OOP</p>"
   ]
  },
  {
   "cell_type": "markdown",
   "metadata": {},
   "source": [
    "##### Syntax for Inheriting from a Parent Class"
   ]
  },
  {
   "cell_type": "code",
   "execution_count": 61,
   "metadata": {},
   "outputs": [
    {
     "name": "stdout",
     "output_type": "stream",
     "text": [
      "bark\n",
      "make some generic sound\n",
      "None\n",
      "9.8\n",
      "15\n"
     ]
    }
   ],
   "source": [
    "# create a parent class\n",
    "class Animal():\n",
    "    acceleration = 9.8\n",
    "    \n",
    "    def __init__(self, name, species, legs = 4):\n",
    "        self.name = name\n",
    "        self.species = species\n",
    "        self.legs = legs\n",
    "        \n",
    "    #generic parent method- doesn't override anything\n",
    "    def makeSound(self):\n",
    "        print('make some generic sound')\n",
    "        \n",
    "#make child class \n",
    "class Dog(Animal):\n",
    "    speed = 15\n",
    "    \n",
    "    def printInfo(self):\n",
    "        print('the dog has', self.speed,'and', self.acceleration)\n",
    "        \n",
    "#make a grandkid class- pass in the child instead of the parent\n",
    "class Mutt(Dog):\n",
    "    color = 'tan'\n",
    "    \n",
    "#override the animal class using the dog class\n",
    "    def __init__(self, name, species, eye_color, legs=4):\n",
    "        Dog.__init__(self, name, species, legs)\n",
    "        self.eye_color = eye_color\n",
    "    \n",
    "#override the make sound method (coming from the animal class)\n",
    "    def makeSound(self):\n",
    "        noise = 'bark'\n",
    "        return noise\n",
    "    \n",
    "lassie = Dog('lassie','dog')\n",
    "basic_animal = Animal('Rex','some animal')\n",
    "buster = Mutt('buster','mut','brown')\n",
    "\n",
    "print(buster.makeSound())\n",
    "print(lassie.makeSound())\n",
    "print(buster.acceleration)\n",
    "print(buster.speed)"
   ]
  },
  {
   "cell_type": "markdown",
   "metadata": {},
   "source": [
    "##### The \\__init\\__() Method for a Child Class - super()"
   ]
  },
  {
   "cell_type": "code",
   "execution_count": 62,
   "metadata": {
    "scrolled": true
   },
   "outputs": [
    {
     "name": "stdout",
     "output_type": "stream",
     "text": [
      "woof\n",
      "make some generic sound\n",
      "None\n",
      "9.8\n",
      "15\n"
     ]
    }
   ],
   "source": [
    "class Puppy(Dog):\n",
    "    color = 'black and brown'\n",
    "    \n",
    "    #override the animal class __init__\n",
    "    def __init__ (self, name, species, eye_color, legs = 4):\n",
    "        super().__init__(name, species, legs)\n",
    "        self.eye_color = eye_color\n",
    "        \n",
    "    def makeSound(self):\n",
    "        noise = 'woof'\n",
    "        return noise\n",
    "\n",
    "lassie = Dog('lassie','dog')\n",
    "basic_animal = Animal('Rex','some animal')\n",
    "buster = Puppy('buster','mut','brown')\n",
    "\n",
    "print(buster.makeSound())\n",
    "print(lassie.makeSound())\n",
    "print(buster.acceleration)\n",
    "print(buster.speed)"
   ]
  },
  {
   "cell_type": "markdown",
   "metadata": {},
   "source": [
    "##### Defining Attributes and Methods for the Child Class"
   ]
  },
  {
   "cell_type": "code",
   "execution_count": null,
   "metadata": {},
   "outputs": [],
   "source": [
    "# See Above"
   ]
  },
  {
   "cell_type": "markdown",
   "metadata": {},
   "source": [
    "##### Method Overriding"
   ]
  },
  {
   "cell_type": "code",
   "execution_count": null,
   "metadata": {},
   "outputs": [],
   "source": [
    "# See Above"
   ]
  },
  {
   "cell_type": "markdown",
   "metadata": {},
   "source": [
    "## Classes as Attributes <br>\n",
    "<p>Classes can also be used as attributes within another class. This is useful in situations where you need to keep variables locally stored, instead of globally stored.</p>"
   ]
  },
  {
   "cell_type": "code",
   "execution_count": 64,
   "metadata": {},
   "outputs": [
    {
     "name": "stdout",
     "output_type": "stream",
     "text": [
      "20\n"
     ]
    }
   ],
   "source": [
    "class Battery():\n",
    "    volts = 7.8\n",
    "    \n",
    "    def __init__(self, cells):\n",
    "        self.cells = cells\n",
    "\n",
    "class Car():\n",
    "    def __init__(self, year, make, model, batt):\n",
    "        self.year = year\n",
    "        self.make = make\n",
    "        self.model = model\n",
    "        self.batt = batt\n",
    "        \n",
    "    def printInfo(self):\n",
    "        return f'{self.year} {self.make} {self.model} {self.batt.cells}'\n",
    "        \n",
    "#sets the number of cells in the Battery class\n",
    "my_battery = Battery(20)\n",
    "\n",
    "my_car = Car(2014, 'Honda', 'CRV', my_battery)\n",
    "\n",
    "print(my_car.batt.cells)\n"
   ]
  },
  {
   "cell_type": "markdown",
   "metadata": {},
   "source": [
    "# Exercises"
   ]
  },
  {
   "cell_type": "markdown",
   "metadata": {},
   "source": [
    "### Exercise 1 - Turn the shopping cart program from yesterday into an object-oriented program\n",
    "\n",
    "The comments in the cell below are there as a guide for thinking about the problem. However, if you feel a different way is best for you and your own thought process, please do what feels best for you by all means."
   ]
  },
  {
   "cell_type": "code",
   "execution_count": null,
   "metadata": {},
   "outputs": [],
   "source": [
    "# Create a class called cart that retains items and has methods to add, remove, and show\n",
    "\n",
    "class Cart():\n",
    "    pass\n",
    "    "
   ]
  },
  {
   "cell_type": "code",
   "execution_count": 84,
   "metadata": {},
   "outputs": [],
   "source": [
    "# just creates the blueprints for your shopping bag\n",
    "class GroceryList():\n",
    "    '''\n",
    "\n",
    "    '''\n",
    "    \n",
    "    def __init__(self, items, bags):\n",
    "        self.items = items\n",
    "        self.bags = bags\n",
    "        \n",
    "    #write a method that shows the items in the ShoppingBag\n",
    "    def showBag(self):\n",
    "        if self.items == []:\n",
    "            print('your bag is empty')\n",
    "        elif len(self.items) == 1:\n",
    "            print('you have', len(self.items), 'item in your bag')\n",
    "            for item in self.items:\n",
    "                print(item) \n",
    "        else:\n",
    "            print('you have', len(self.items), 'items in your bag')\n",
    "            for item in self.items:\n",
    "                print(f'-{item}')\n",
    "                \n",
    "    #add items to the items list for the ShoppingBag\n",
    "    def addItems(self):\n",
    "        user_add = input('what would you like to add? ')\n",
    "        self.items.append(user_add)\n",
    "    \n",
    "    def removeItems(self):\n",
    "        user_remove = input('what would you like to remove? ')\n",
    "        print(self.items)\n",
    "        if user_remove in self.items:\n",
    "            self.items.remove(user_remove)\n",
    "        else:\n",
    "            print('that isn\\'t in your bag. try again')\n",
    "    \n",
    "    def bagCount(self):\n",
    "        #let's say you can fit 2 items in a bag\n",
    "        bags_needed = self.items // 2\n",
    "        if bags_needed > self.bags:\n",
    "            print('you need more bags')\n",
    "        else:\n",
    "            print('you have enough bags')\n",
    "    "
   ]
  },
  {
   "cell_type": "code",
   "execution_count": 98,
   "metadata": {},
   "outputs": [
    {
     "name": "stdout",
     "output_type": "stream",
     "text": [
      "what do you want to do? Show, add, remove, or quit? quit\n",
      "you have 2 items in your bag\n",
      "-shoes\n",
      "-socks\n",
      "thanks for shopping\n"
     ]
    },
    {
     "ename": "NameError",
     "evalue": "name 'self' is not defined",
     "output_type": "error",
     "traceback": [
      "\u001b[0;31m---------------------------------------------------------------------------\u001b[0m",
      "\u001b[0;31mNameError\u001b[0m                                 Traceback (most recent call last)",
      "\u001b[0;32m/var/folders/jb/g9yszc1s6gz42xhwb5w4fvhm0000gn/T/ipykernel_40479/1972990740.py\u001b[0m in \u001b[0;36m<module>\u001b[0;34m\u001b[0m\n\u001b[1;32m     30\u001b[0m     \u001b[0mbagCount\u001b[0m\u001b[0;34m(\u001b[0m\u001b[0mself\u001b[0m\u001b[0;34m.\u001b[0m\u001b[0mbags\u001b[0m\u001b[0;34m)\u001b[0m\u001b[0;34m\u001b[0m\u001b[0;34m\u001b[0m\u001b[0m\n\u001b[1;32m     31\u001b[0m \u001b[0;34m\u001b[0m\u001b[0m\n\u001b[0;32m---> 32\u001b[0;31m \u001b[0mrun\u001b[0m\u001b[0;34m(\u001b[0m\u001b[0;34m)\u001b[0m\u001b[0;34m\u001b[0m\u001b[0;34m\u001b[0m\u001b[0m\n\u001b[0m",
      "\u001b[0;32m/var/folders/jb/g9yszc1s6gz42xhwb5w4fvhm0000gn/T/ipykernel_40479/1972990740.py\u001b[0m in \u001b[0;36mrun\u001b[0;34m()\u001b[0m\n\u001b[1;32m     28\u001b[0m             \u001b[0mprint\u001b[0m\u001b[0;34m(\u001b[0m\u001b[0;34m'Try another command'\u001b[0m\u001b[0;34m)\u001b[0m\u001b[0;34m\u001b[0m\u001b[0;34m\u001b[0m\u001b[0m\n\u001b[1;32m     29\u001b[0m         \u001b[0mclear_output\u001b[0m\u001b[0;34m(\u001b[0m\u001b[0;34m)\u001b[0m\u001b[0;34m\u001b[0m\u001b[0;34m\u001b[0m\u001b[0m\n\u001b[0;32m---> 30\u001b[0;31m     \u001b[0mbagCount\u001b[0m\u001b[0;34m(\u001b[0m\u001b[0mself\u001b[0m\u001b[0;34m.\u001b[0m\u001b[0mbags\u001b[0m\u001b[0;34m)\u001b[0m\u001b[0;34m\u001b[0m\u001b[0;34m\u001b[0m\u001b[0m\n\u001b[0m\u001b[1;32m     31\u001b[0m \u001b[0;34m\u001b[0m\u001b[0m\n\u001b[1;32m     32\u001b[0m \u001b[0mrun\u001b[0m\u001b[0;34m(\u001b[0m\u001b[0;34m)\u001b[0m\u001b[0;34m\u001b[0m\u001b[0;34m\u001b[0m\u001b[0m\n",
      "\u001b[0;31mNameError\u001b[0m: name 'self' is not defined"
     ]
    }
   ],
   "source": [
    "from IPython.display import clear_output\n",
    "\n",
    "\n",
    "#passing an empty list and the number of bags i have\n",
    "shopping_trip = GroceryList([],1)\n",
    "\n",
    "#create a function to run the ShoppingBag methods on our whole_foods_bag\n",
    "#this function will be in charge of which part of the class to run\n",
    "def run():\n",
    "    while True:\n",
    "        response = input('what do you want to do? Show, add, remove, or quit? ')\n",
    "        \n",
    "        if response.lower() == 'quit':\n",
    "            shopping_trip.showBag()\n",
    "            print('thanks for shopping')\n",
    "            shopping_trip.bagCount()\n",
    "            break #breaks the while loop\n",
    "        \n",
    "        elif response.lower() == 'add':\n",
    "            shopping_trip.addItems()\n",
    "            \n",
    "        elif response.lower() == 'show':\n",
    "            shopping_trip.showBag()\n",
    "    \n",
    "        elif response.lower() == 'remove':\n",
    "            shopping_trip.removeItems() \n",
    "            \n",
    "        else:\n",
    "            print('Try another command')\n",
    "\n",
    "run()"
   ]
  },
  {
   "cell_type": "markdown",
   "metadata": {},
   "source": [
    "### Exercise 2 - Write a Python class which has two methods get_String and print_String. get_String accept a string from the user and print_String print the string in upper case"
   ]
  },
  {
   "cell_type": "code",
   "execution_count": 97,
   "metadata": {},
   "outputs": [
    {
     "name": "stdout",
     "output_type": "stream",
     "text": [
      "write a sentence: hello\n",
      "HELLO\n"
     ]
    }
   ],
   "source": [
    "class String():\n",
    "    def __init__(self, user_string):\n",
    "        self.user_string = user_string\n",
    "        \n",
    "    def getString(self):\n",
    "        self.user_string = input('write a sentence: ')\n",
    "        \n",
    "        \n",
    "    def printString(self):\n",
    "        print(self.user_string.upper())\n",
    "        \n",
    "        \n",
    "formatting = String('')\n",
    "\n",
    "formatting.getString()\n",
    "formatting.printString()"
   ]
  },
  {
   "cell_type": "code",
   "execution_count": null,
   "metadata": {},
   "outputs": [],
   "source": []
  }
 ],
 "metadata": {
  "kernelspec": {
   "display_name": "Python 3 (ipykernel)",
   "language": "python",
   "name": "python3"
  },
  "language_info": {
   "codemirror_mode": {
    "name": "ipython",
    "version": 3
   },
   "file_extension": ".py",
   "mimetype": "text/x-python",
   "name": "python",
   "nbconvert_exporter": "python",
   "pygments_lexer": "ipython3",
   "version": "3.9.13"
  }
 },
 "nbformat": 4,
 "nbformat_minor": 2
}
